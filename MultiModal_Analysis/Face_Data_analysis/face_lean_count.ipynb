{
 "cells": [
  {
   "cell_type": "code",
   "execution_count": 2,
   "metadata": {},
   "outputs": [
    {
     "name": "stderr",
     "output_type": "stream",
     "text": [
      "C:\\Users\\admin\\AppData\\Local\\Temp\\ipykernel_46864\\3657941114.py:2: DeprecationWarning: \n",
      "Pyarrow will become a required dependency of pandas in the next major release of pandas (pandas 3.0),\n",
      "(to allow more performant data types, such as the Arrow string type, and better interoperability with other libraries)\n",
      "but was not found to be installed on your system.\n",
      "If this would cause problems for you,\n",
      "please provide us feedback at https://github.com/pandas-dev/pandas/issues/54466\n",
      "        \n",
      "  import pandas as pd\n"
     ]
    }
   ],
   "source": [
    "### csv 파일 읽어오기 코드 작성. \n",
    "import pandas as pd\n",
    "import os\n",
    "import numpy as np"
   ]
  },
  {
   "cell_type": "code",
   "execution_count": 57,
   "metadata": {},
   "outputs": [],
   "source": [
    "data = []\n",
    "\n",
    "output_folder = f\"../../../../../MultiModal_postprocessing/results/face/face_landmark/\"\n",
    "if not os.path.exists(output_folder):\n",
    "    os.makedirs(output_folder)\n",
    "\n",
    "for group in [\"A\", \"B\", \"C\", \"D\", \"E\", \"F\", \"G\"]:\n",
    "    os.chdir(f\"D:/MultiModal/MultiModal_postprocessing/results/face/face_landmark_postprocessing/{group}/\")\n",
    "    #os.chdir(f\"D:/MultiModal/MultiModal_postprocessing/results/face_5m/face_landmark/{group}/\")\n",
    "\n",
    "    step_list = [\"S1\", \"S2\", \"S3\"]\n",
    "    #step_list = [\"S1_1\", \"S1_2\", \"S1_3\", \"S1_4\", \"S2_1\", \"S2_2\", \"S2_3\", \"S2_4\", \"S3\"]\n",
    "\n",
    "    face_index = [\"Group\", \"Week\",] + [f\"{step}_Face_lean_3p\" for step in step_list]\n",
    "\n",
    "    for week in [f\"{w_index}W\" for w_index in range(1, 5)]:\n",
    "        step_data = []\n",
    "        for step in step_list:\n",
    "            df1 = pd.read_csv(f'Face_{week}_{group}1_{step}.csv') if os.path.exists(f'Face_{week}_{group}1_{step}.csv') else []\n",
    "            df2 = pd.read_csv(f'Face_{week}_{group}2_{step}.csv') if os.path.exists(f'Face_{week}_{group}2_{step}.csv') else []\n",
    "            df3 = pd.read_csv(f'Face_{week}_{group}3_{step}.csv') if os.path.exists(f'Face_{week}_{group}3_{step}.csv') else []\n",
    "            df4 = pd.read_csv(f'Face_{week}_{group}4_{step}.csv') if os.path.exists(f'Face_{week}_{group}4_{step}.csv') else []\n",
    "                        \n",
    "            a = np.array([ len(df1) if len(df1) > 0 else 1000000000000,len(df2) if len(df2) > 0 else 1000000000000, len(df3) if len(df3) > 0 else 1000000000000,len(df4) if len(df4) > 0 else 1000000000000])\n",
    "            length = a.min()-1\n",
    "\n",
    "            def plus_minus(df):\n",
    "                df[\"box size\"] = df['box.width'] * df['box.height']\n",
    "\n",
    "                W = \"box.width\"\n",
    "                H = \"box.height\"\n",
    "\n",
    "\n",
    "                df[\"box delta\"] = df[\"box size\"].diff()\n",
    "                df_new = df.iloc[1:,18]\n",
    "\n",
    "                for i in range(len(df_new)):\n",
    "                    if(df_new.iloc[i] >600):\n",
    "                        df_new.iloc[i] = 1\n",
    "                    elif(df_new.iloc[i] <-600):\n",
    "                        df_new.iloc[i] = -1\n",
    "                    else:\n",
    "                        df_new.iloc[i] =0\n",
    "                return df_new\n",
    "\n",
    "            \n",
    "            if len(df1) > 0:\n",
    "                df1 = plus_minus(df1).iloc[:length]\n",
    "            else:\n",
    "                df1 = pd.DataFrame({\"box delta\": [0 for _ in range(length)]})\n",
    "            \n",
    "            if len(df2) > 0:\n",
    "                df2 = plus_minus(df2).iloc[:length]\n",
    "            else:\n",
    "                df2 = pd.DataFrame({\"box delta\": [0 for _ in range(length)]})\n",
    "\n",
    "            if len(df3) > 0:\n",
    "                df3 = plus_minus(df3).iloc[:length]\n",
    "            else:\n",
    "                df3 = pd.DataFrame({\"box delta\": [0 for _ in range(length)]})\n",
    "\n",
    "            if len(df4) > 0:\n",
    "                df4 = plus_minus(df4).iloc[:length]\n",
    "            else:\n",
    "                df4 = pd.DataFrame({\"box delta\": [0 for _ in range(length)]})\n",
    "            \n",
    "            df_concat = pd.concat([df1,df2,df3,df4], axis = 1)\n",
    "\n",
    "            df_concat['same'] = 0 #garbage\n",
    "            for i in range (len(df_concat)):\n",
    "                \n",
    "                count=df_concat.iloc[i].value_counts()\n",
    "                try:\n",
    "                    count[0] = 0\n",
    "                except:\n",
    "                    0\n",
    "            \n",
    "                df_concat.iloc[i,4] = count.max()\n",
    "            same = np.array(df_concat[\"same\"])\n",
    "            step_data.append(np.where(same>=3,1,0).sum())\n",
    "        data.append([group, week] + step_data)"
   ]
  },
  {
   "cell_type": "code",
   "execution_count": null,
   "metadata": {},
   "outputs": [],
   "source": [
    "count_df = pd.DataFrame(data, columns=face_index)"
   ]
  },
  {
   "cell_type": "code",
   "execution_count": 59,
   "metadata": {},
   "outputs": [],
   "source": [
    "count_df.to_csv(output_folder + \"All_Face_lean_count.csv\")"
   ]
  },
  {
   "cell_type": "code",
   "execution_count": 61,
   "metadata": {},
   "outputs": [],
   "source": [
    "os.chdir(f\"D:/MultiModal/MultiModal_postprocessing/results/face/face_landmark/\")\n",
    "all_df = pd.read_csv(\"All_Face_lean_count.csv\") \n",
    "\n",
    "step_list = [\"S1\", \"S2\", \"S3\"]\n",
    "#step_list = [\"S1_1\", \"S1_2\", \"S1_3\", \"S1_4\", \"S2_1\", \"S2_2\", \"S2_3\", \"S2_4\", \"S3\"]\n",
    "\n",
    "df_index = [\"Group\"] + [f\"{week}_{step}_Face_lean_3p\" for week in [\"1W\", \"2W\", \"3W\", \"4W\"] for step in step_list] \n",
    "\n",
    "data = []\n",
    "for group in [\"A\", \"B\", \"C\", \"D\", \"E\", \"F\", \"G\"]:\n",
    "    week_data = []\n",
    "    for week in [f\"{w_index}W\" for w_index in range(1, 5)]:\n",
    "        filtered_df = all_df[(all_df[\"Week\"] == week) & (all_df[\"Group\"] == group)]\n",
    "        week_data.extend(filtered_df[[f\"{step}_Face_lean_3p\" for step in step_list]].values.flatten().tolist())\n",
    "    \n",
    "    data.append([group] + week_data)   \n",
    "\n",
    "all_summarize_df = pd.DataFrame(data, columns=df_index)\n",
    "all_summarize_df.to_excel(\"All_Face_lean_count(All group, excel_anaysis).xlsx\")"
   ]
  }
 ],
 "metadata": {
  "kernelspec": {
   "display_name": "Python 3",
   "language": "python",
   "name": "python3"
  },
  "language_info": {
   "codemirror_mode": {
    "name": "ipython",
    "version": 3
   },
   "file_extension": ".py",
   "mimetype": "text/x-python",
   "name": "python",
   "nbconvert_exporter": "python",
   "pygments_lexer": "ipython3",
   "version": "3.9.18"
  }
 },
 "nbformat": 4,
 "nbformat_minor": 2
}
