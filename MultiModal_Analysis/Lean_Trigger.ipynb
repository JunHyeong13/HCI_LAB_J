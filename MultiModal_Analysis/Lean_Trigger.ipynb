{
 "cells": [
  {
   "cell_type": "code",
   "execution_count": 1,
   "metadata": {},
   "outputs": [
    {
     "name": "stderr",
     "output_type": "stream",
     "text": [
      "C:\\Users\\user\\AppData\\Local\\Temp\\ipykernel_8244\\1576438456.py:2: DeprecationWarning: \n",
      "Pyarrow will become a required dependency of pandas in the next major release of pandas (pandas 3.0),\n",
      "(to allow more performant data types, such as the Arrow string type, and better interoperability with other libraries)\n",
      "but was not found to be installed on your system.\n",
      "If this would cause problems for you,\n",
      "please provide us feedback at https://github.com/pandas-dev/pandas/issues/54466\n",
      "        \n",
      "  import pandas as pd\n"
     ]
    }
   ],
   "source": [
    "import os\n",
    "import pandas as pd\n",
    "import numpy as np"
   ]
  },
  {
   "cell_type": "code",
   "execution_count": 44,
   "metadata": {},
   "outputs": [],
   "source": [
    "# os.chdir(\"D:\\\\MultiModal\\\\Face_z_score\\\\Face_lean_count\\\\backup\\\\All_face_box_zip\\\\Time_step\")\n",
    "\n",
    "out = r\"D:\\\\MultiModal\\\\Face_z_score\\\\Face_lean_count\\\\backup\\\\All_face_box_zip\\\\Lean_count\\\\\"\n",
    "\n",
    "# 빈 리스트 선언.\n",
    "data = []\n",
    "\n",
    "for week in [\"1W\", \"2W\", \"3W\", \"4W\"]:\n",
    "    for group in [\"A\",\"B\", \"C\", \"D\", \"E\", \"F\", \"G\"]:\n",
    "        # \"B\", \"C\", \"D\", \"E\", \"F\", \"G\"\n",
    "        for step in [\"S1\", \"S2\", \"S3\"]:\n",
    "            \n",
    "            os.chdir(\"D:\\\\MultiModal\\\\Face_z_score\\\\Face_lean_count\\\\backup\\\\All_face_box_zip\\\\Time_step\\\\\")\n",
    "            # 파일 읽어오기\n",
    "            read_file = pd.read_excel(f\"box_delta_time_{week}_{group}_{step}.xlsx\", index_col=0)\n",
    "            #print(read_file)\n",
    "            \n",
    "            # lean 4p에서, 앞으로 기울인 횟수 count => box_delta 1~4를 보았을 때, 4명이 앞으로 기울였다면, 1,1,1,1 \n",
    "            count_4p_f = ((read_file['box_delta_1'] == 1) & (read_file['box_delta_2'] == 1) & (read_file['box_delta_3'] == 1) & (read_file['box_delta_4'] == 1)).sum()\n",
    "            #print(count_4p_f)\n",
    "            \n",
    "            # lean 4p에서 뒤로 기울인 횟수 count => box_delta 1~4를 보았을 때, 4명이 뒤로 기울였다면, -1, -1, -1, -1\n",
    "            count_4p_b = ((read_file[\"box_delta_1\"] == -1) & (read_file[\"box_delta_2\"] == -1) & (read_file[\"box_delta_3\"] == -1) & (read_file[\"box_delta_4\"] == -1)).sum()\n",
    "            #print(count_4p_b)\n",
    "         \n",
    "            # lean 3p에서 앞으로 기울인    횟수 count =>  box_delta 1~4를 보았을 때, 3명이 앞으로 기울였다면, 1이 총 3개 여야 함.\n",
    "            count_3p_f = ((read_file == 1).sum(axis=1) >=3).sum()\n",
    "            #print(count_3p_f)\n",
    "            \n",
    "            # lean 3p에서 뒤로 기울인 횟수 count =>   box_delta 1~4를 보았을 때, 3명이 뒤로 기울였다면, -1이 총 3개 여야 함.\n",
    "            count_3p_b = ((read_file == -1).sum(axis=1) >=3).sum()\n",
    "            #print(count_3p_b)\n",
    "            \n",
    "            # 저장된 데이터들을 엑셀 파일로 내보내기.\n",
    "            data.append({\n",
    "                \"Week\": week,\n",
    "                \"Group\": group,\n",
    "                \"Step\": step,\n",
    "                \"Lean_4p_f\": count_4p_f,\n",
    "                \"Lean_4p_b\": count_4p_b,\n",
    "                \"Lean_3p_f\": count_3p_f,\n",
    "                \"Lean_3p_b\": count_3p_b\n",
    "            })\n",
    "result_df = pd.DataFrame(data)"
   ]
  },
  {
   "cell_type": "code",
   "execution_count": 45,
   "metadata": {},
   "outputs": [],
   "source": [
    "os.chdir(out)\n",
    "result_df.to_excel(\"lean_count.xlsx\", index_label=False)"
   ]
  },
  {
   "cell_type": "code",
   "execution_count": 34,
   "metadata": {},
   "outputs": [
    {
     "name": "stdout",
     "output_type": "stream",
     "text": [
      "각 행에서 '1'의 개수가 3개 이상인 행의 개수: 2\n"
     ]
    }
   ],
   "source": [
    "import pandas as pd\n",
    "\n",
    "# 예시 DataFrame 생성\n",
    "data = {\n",
    "    'box_delta_1': [1, -1, 1, 1],\n",
    "    'box_delta_2': [-1, 1, 1, 1],\n",
    "    'box_delta_3': [1, 1, -1, -1],\n",
    "    'box_delta_4': [1, 0, 1, 0]\n",
    "}\n",
    "\n",
    "df = pd.DataFrame(data)\n",
    "\n",
    "# # 각 행에서 '1'의 개수가 3개 이상인 행을 카운트\n",
    "# count_three_or_more = ((df == 1).sum(axis=1) >= 3).sum()\n",
    "\n",
    "# print(\"각 행에서 '1'의 개수가 3개 이상인 행의 개수:\", count_three_or_more)\n"
   ]
  },
  {
   "cell_type": "code",
   "execution_count": 35,
   "metadata": {},
   "outputs": [
    {
     "data": {
      "text/html": [
       "<div>\n",
       "<style scoped>\n",
       "    .dataframe tbody tr th:only-of-type {\n",
       "        vertical-align: middle;\n",
       "    }\n",
       "\n",
       "    .dataframe tbody tr th {\n",
       "        vertical-align: top;\n",
       "    }\n",
       "\n",
       "    .dataframe thead th {\n",
       "        text-align: right;\n",
       "    }\n",
       "</style>\n",
       "<table border=\"1\" class=\"dataframe\">\n",
       "  <thead>\n",
       "    <tr style=\"text-align: right;\">\n",
       "      <th></th>\n",
       "      <th>box_delta_1</th>\n",
       "      <th>box_delta_2</th>\n",
       "      <th>box_delta_3</th>\n",
       "      <th>box_delta_4</th>\n",
       "    </tr>\n",
       "  </thead>\n",
       "  <tbody>\n",
       "    <tr>\n",
       "      <th>0</th>\n",
       "      <td>1</td>\n",
       "      <td>-1</td>\n",
       "      <td>1</td>\n",
       "      <td>1</td>\n",
       "    </tr>\n",
       "    <tr>\n",
       "      <th>1</th>\n",
       "      <td>-1</td>\n",
       "      <td>1</td>\n",
       "      <td>1</td>\n",
       "      <td>0</td>\n",
       "    </tr>\n",
       "    <tr>\n",
       "      <th>2</th>\n",
       "      <td>1</td>\n",
       "      <td>1</td>\n",
       "      <td>-1</td>\n",
       "      <td>1</td>\n",
       "    </tr>\n",
       "    <tr>\n",
       "      <th>3</th>\n",
       "      <td>1</td>\n",
       "      <td>1</td>\n",
       "      <td>-1</td>\n",
       "      <td>0</td>\n",
       "    </tr>\n",
       "  </tbody>\n",
       "</table>\n",
       "</div>"
      ],
      "text/plain": [
       "   box_delta_1  box_delta_2  box_delta_3  box_delta_4\n",
       "0            1           -1            1            1\n",
       "1           -1            1            1            0\n",
       "2            1            1           -1            1\n",
       "3            1            1           -1            0"
      ]
     },
     "execution_count": 35,
     "metadata": {},
     "output_type": "execute_result"
    }
   ],
   "source": [
    "df"
   ]
  }
 ],
 "metadata": {
  "kernelspec": {
   "display_name": "Python 3",
   "language": "python",
   "name": "python3"
  },
  "language_info": {
   "codemirror_mode": {
    "name": "ipython",
    "version": 3
   },
   "file_extension": ".py",
   "mimetype": "text/x-python",
   "name": "python",
   "nbconvert_exporter": "python",
   "pygments_lexer": "ipython3",
   "version": "3.12.1"
  }
 },
 "nbformat": 4,
 "nbformat_minor": 2
}
