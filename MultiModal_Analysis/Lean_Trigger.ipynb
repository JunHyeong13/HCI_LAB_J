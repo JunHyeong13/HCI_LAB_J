{
 "cells": [
  {
   "cell_type": "code",
   "execution_count": 1,
   "metadata": {},
   "outputs": [
    {
     "name": "stderr",
     "output_type": "stream",
     "text": [
      "C:\\Users\\user\\AppData\\Local\\Temp\\ipykernel_3832\\1576438456.py:2: DeprecationWarning: \n",
      "Pyarrow will become a required dependency of pandas in the next major release of pandas (pandas 3.0),\n",
      "(to allow more performant data types, such as the Arrow string type, and better interoperability with other libraries)\n",
      "but was not found to be installed on your system.\n",
      "If this would cause problems for you,\n",
      "please provide us feedback at https://github.com/pandas-dev/pandas/issues/54466\n",
      "        \n",
      "  import pandas as pd\n"
     ]
    }
   ],
   "source": [
    "import os\n",
    "import pandas as pd\n",
    "import numpy as np"
   ]
  },
  {
   "cell_type": "code",
   "execution_count": 47,
   "metadata": {},
   "outputs": [
    {
     "ename": "KeyError",
     "evalue": "'box_delta_C1'",
     "output_type": "error",
     "traceback": [
      "\u001b[1;31m---------------------------------------------------------------------------\u001b[0m",
      "\u001b[1;31mKeyError\u001b[0m                                  Traceback (most recent call last)",
      "File \u001b[1;32mc:\\Users\\user\\AppData\\Local\\Programs\\Python\\Python312\\Lib\\site-packages\\pandas\\core\\indexes\\base.py:3802\u001b[0m, in \u001b[0;36mIndex.get_loc\u001b[1;34m(self, key)\u001b[0m\n\u001b[0;32m   3801\u001b[0m \u001b[38;5;28;01mtry\u001b[39;00m:\n\u001b[1;32m-> 3802\u001b[0m     \u001b[38;5;28;01mreturn\u001b[39;00m \u001b[38;5;28;43mself\u001b[39;49m\u001b[38;5;241;43m.\u001b[39;49m\u001b[43m_engine\u001b[49m\u001b[38;5;241;43m.\u001b[39;49m\u001b[43mget_loc\u001b[49m\u001b[43m(\u001b[49m\u001b[43mcasted_key\u001b[49m\u001b[43m)\u001b[49m\n\u001b[0;32m   3803\u001b[0m \u001b[38;5;28;01mexcept\u001b[39;00m \u001b[38;5;167;01mKeyError\u001b[39;00m \u001b[38;5;28;01mas\u001b[39;00m err:\n",
      "File \u001b[1;32mindex.pyx:153\u001b[0m, in \u001b[0;36mpandas._libs.index.IndexEngine.get_loc\u001b[1;34m()\u001b[0m\n",
      "File \u001b[1;32mindex.pyx:182\u001b[0m, in \u001b[0;36mpandas._libs.index.IndexEngine.get_loc\u001b[1;34m()\u001b[0m\n",
      "File \u001b[1;32mpandas\\\\_libs\\\\hashtable_class_helper.pxi:7081\u001b[0m, in \u001b[0;36mpandas._libs.hashtable.PyObjectHashTable.get_item\u001b[1;34m()\u001b[0m\n",
      "File \u001b[1;32mpandas\\\\_libs\\\\hashtable_class_helper.pxi:7089\u001b[0m, in \u001b[0;36mpandas._libs.hashtable.PyObjectHashTable.get_item\u001b[1;34m()\u001b[0m\n",
      "\u001b[1;31mKeyError\u001b[0m: 'box_delta_C1'",
      "\nThe above exception was the direct cause of the following exception:\n",
      "\u001b[1;31mKeyError\u001b[0m                                  Traceback (most recent call last)",
      "Cell \u001b[1;32mIn[47], line 21\u001b[0m\n\u001b[0;32m     17\u001b[0m read_file \u001b[38;5;241m=\u001b[39m pd\u001b[38;5;241m.\u001b[39mread_excel(\u001b[38;5;124mf\u001b[39m\u001b[38;5;124m\"\u001b[39m\u001b[38;5;124mbox_delta_time_\u001b[39m\u001b[38;5;132;01m{\u001b[39;00mweek\u001b[38;5;132;01m}\u001b[39;00m\u001b[38;5;124m_\u001b[39m\u001b[38;5;132;01m{\u001b[39;00mgroup\u001b[38;5;132;01m}\u001b[39;00m\u001b[38;5;124m_\u001b[39m\u001b[38;5;132;01m{\u001b[39;00mstep\u001b[38;5;132;01m}\u001b[39;00m\u001b[38;5;124m.xlsx\u001b[39m\u001b[38;5;124m\"\u001b[39m, index_col\u001b[38;5;241m=\u001b[39m\u001b[38;5;241m0\u001b[39m)\n\u001b[0;32m     18\u001b[0m \u001b[38;5;66;03m#print(read_file)\u001b[39;00m\n\u001b[0;32m     19\u001b[0m \n\u001b[0;32m     20\u001b[0m \u001b[38;5;66;03m# lean 4p에서, 앞으로 기울인 횟수 count => box_delta 1~4를 보았을 때, 4명이 앞으로 기울였다면, 1,1,1,1 \u001b[39;00m\n\u001b[1;32m---> 21\u001b[0m count_4p_f \u001b[38;5;241m=\u001b[39m ((\u001b[43mread_file\u001b[49m\u001b[43m[\u001b[49m\u001b[38;5;124;43m'\u001b[39;49m\u001b[38;5;124;43mbox_delta_C1\u001b[39;49m\u001b[38;5;124;43m'\u001b[39;49m\u001b[43m]\u001b[49m \u001b[38;5;241m==\u001b[39m \u001b[38;5;241m1\u001b[39m) \u001b[38;5;241m&\u001b[39m (read_file[\u001b[38;5;124m'\u001b[39m\u001b[38;5;124mbox_delta_C2\u001b[39m\u001b[38;5;124m'\u001b[39m] \u001b[38;5;241m==\u001b[39m \u001b[38;5;241m1\u001b[39m) \u001b[38;5;241m&\u001b[39m (read_file[\u001b[38;5;124m'\u001b[39m\u001b[38;5;124mbox_delta_C3\u001b[39m\u001b[38;5;124m'\u001b[39m] \u001b[38;5;241m==\u001b[39m \u001b[38;5;241m1\u001b[39m) \u001b[38;5;241m&\u001b[39m (read_file[\u001b[38;5;124m'\u001b[39m\u001b[38;5;124mbox_delta_C4\u001b[39m\u001b[38;5;124m'\u001b[39m] \u001b[38;5;241m==\u001b[39m \u001b[38;5;241m1\u001b[39m))\u001b[38;5;241m.\u001b[39msum()\n\u001b[0;32m     22\u001b[0m \u001b[38;5;66;03m#print(count_4p_f)\u001b[39;00m\n\u001b[0;32m     23\u001b[0m \n\u001b[0;32m     24\u001b[0m \u001b[38;5;66;03m# lean 4p에서 뒤로 기울인 횟수 count => box_delta 1~4를 보았을 때, 4명이 뒤로 기울였다면, -1, -1, -1, -1\u001b[39;00m\n\u001b[0;32m     25\u001b[0m count_4p_b \u001b[38;5;241m=\u001b[39m ((read_file[\u001b[38;5;124m\"\u001b[39m\u001b[38;5;124mbox_delta_C1\u001b[39m\u001b[38;5;124m\"\u001b[39m] \u001b[38;5;241m==\u001b[39m \u001b[38;5;241m-\u001b[39m\u001b[38;5;241m1\u001b[39m) \u001b[38;5;241m&\u001b[39m (read_file[\u001b[38;5;124m\"\u001b[39m\u001b[38;5;124mbox_delta_C2\u001b[39m\u001b[38;5;124m\"\u001b[39m] \u001b[38;5;241m==\u001b[39m \u001b[38;5;241m-\u001b[39m\u001b[38;5;241m1\u001b[39m) \u001b[38;5;241m&\u001b[39m (read_file[\u001b[38;5;124m\"\u001b[39m\u001b[38;5;124mbox_delta_C3\u001b[39m\u001b[38;5;124m\"\u001b[39m] \u001b[38;5;241m==\u001b[39m \u001b[38;5;241m-\u001b[39m\u001b[38;5;241m1\u001b[39m) \u001b[38;5;241m&\u001b[39m (read_file[\u001b[38;5;124m\"\u001b[39m\u001b[38;5;124mbox_delta_C4\u001b[39m\u001b[38;5;124m\"\u001b[39m] \u001b[38;5;241m==\u001b[39m \u001b[38;5;241m-\u001b[39m\u001b[38;5;241m1\u001b[39m))\u001b[38;5;241m.\u001b[39msum()\n",
      "File \u001b[1;32mc:\\Users\\user\\AppData\\Local\\Programs\\Python\\Python312\\Lib\\site-packages\\pandas\\core\\frame.py:4090\u001b[0m, in \u001b[0;36mDataFrame.__getitem__\u001b[1;34m(self, key)\u001b[0m\n\u001b[0;32m   4088\u001b[0m \u001b[38;5;28;01mif\u001b[39;00m \u001b[38;5;28mself\u001b[39m\u001b[38;5;241m.\u001b[39mcolumns\u001b[38;5;241m.\u001b[39mnlevels \u001b[38;5;241m>\u001b[39m \u001b[38;5;241m1\u001b[39m:\n\u001b[0;32m   4089\u001b[0m     \u001b[38;5;28;01mreturn\u001b[39;00m \u001b[38;5;28mself\u001b[39m\u001b[38;5;241m.\u001b[39m_getitem_multilevel(key)\n\u001b[1;32m-> 4090\u001b[0m indexer \u001b[38;5;241m=\u001b[39m \u001b[38;5;28;43mself\u001b[39;49m\u001b[38;5;241;43m.\u001b[39;49m\u001b[43mcolumns\u001b[49m\u001b[38;5;241;43m.\u001b[39;49m\u001b[43mget_loc\u001b[49m\u001b[43m(\u001b[49m\u001b[43mkey\u001b[49m\u001b[43m)\u001b[49m\n\u001b[0;32m   4091\u001b[0m \u001b[38;5;28;01mif\u001b[39;00m is_integer(indexer):\n\u001b[0;32m   4092\u001b[0m     indexer \u001b[38;5;241m=\u001b[39m [indexer]\n",
      "File \u001b[1;32mc:\\Users\\user\\AppData\\Local\\Programs\\Python\\Python312\\Lib\\site-packages\\pandas\\core\\indexes\\base.py:3809\u001b[0m, in \u001b[0;36mIndex.get_loc\u001b[1;34m(self, key)\u001b[0m\n\u001b[0;32m   3804\u001b[0m     \u001b[38;5;28;01mif\u001b[39;00m \u001b[38;5;28misinstance\u001b[39m(casted_key, \u001b[38;5;28mslice\u001b[39m) \u001b[38;5;129;01mor\u001b[39;00m (\n\u001b[0;32m   3805\u001b[0m         \u001b[38;5;28misinstance\u001b[39m(casted_key, abc\u001b[38;5;241m.\u001b[39mIterable)\n\u001b[0;32m   3806\u001b[0m         \u001b[38;5;129;01mand\u001b[39;00m \u001b[38;5;28many\u001b[39m(\u001b[38;5;28misinstance\u001b[39m(x, \u001b[38;5;28mslice\u001b[39m) \u001b[38;5;28;01mfor\u001b[39;00m x \u001b[38;5;129;01min\u001b[39;00m casted_key)\n\u001b[0;32m   3807\u001b[0m     ):\n\u001b[0;32m   3808\u001b[0m         \u001b[38;5;28;01mraise\u001b[39;00m InvalidIndexError(key)\n\u001b[1;32m-> 3809\u001b[0m     \u001b[38;5;28;01mraise\u001b[39;00m \u001b[38;5;167;01mKeyError\u001b[39;00m(key) \u001b[38;5;28;01mfrom\u001b[39;00m \u001b[38;5;21;01merr\u001b[39;00m\n\u001b[0;32m   3810\u001b[0m \u001b[38;5;28;01mexcept\u001b[39;00m \u001b[38;5;167;01mTypeError\u001b[39;00m:\n\u001b[0;32m   3811\u001b[0m     \u001b[38;5;66;03m# If we have a listlike key, _check_indexing_error will raise\u001b[39;00m\n\u001b[0;32m   3812\u001b[0m     \u001b[38;5;66;03m#  InvalidIndexError. Otherwise we fall through and re-raise\u001b[39;00m\n\u001b[0;32m   3813\u001b[0m     \u001b[38;5;66;03m#  the TypeError.\u001b[39;00m\n\u001b[0;32m   3814\u001b[0m     \u001b[38;5;28mself\u001b[39m\u001b[38;5;241m.\u001b[39m_check_indexing_error(key)\n",
      "\u001b[1;31mKeyError\u001b[0m: 'box_delta_C1'"
     ]
    }
   ],
   "source": [
    "# os.chdir(\"D:\\\\MultiModal\\\\Face_z_score\\\\Face_lean_count\\\\backup\\\\All_face_box_zip\\\\Time_step\")\n",
    "\n",
    "out = r\"D:\\\\MultiModal\\\\Face_z_score\\\\Face_lean_count\\\\backup\\\\All_face_box_zip\\\\Lean_count\\\\\"\n",
    "\n",
    "input = r\"D:\\\\MultiModal\\\\Face_z_score\\\\Face_lean_count\\\\backup\\\\All_face_box_zip\\\\Time_step\\\\C\\\\\"\n",
    "\n",
    "# 빈 리스트 선언.\n",
    "data = []\n",
    "\n",
    "for week in [\"1W\", \"2W\", \"3W\", \"4W\"]:\n",
    "    for group in [\"C\"]: \n",
    "        for step in [\"S1\", \"S2\", \"S3\"]:\n",
    "            os.chdir(input)\n",
    "            # D:\\\\MultiModal\\Face_z_score\\Face_lean_count\\backup\\All_face_box_zip\\Time_step\\A\n",
    "            \n",
    "            # 파일 읽어오기\n",
    "            read_file = pd.read_excel(f\"box_delta_time_{week}_{group}_{step}.xlsx\", index_col=0)\n",
    "            #print(read_file)\n",
    "            \n",
    "            # lean 4p에서, 앞으로 기울인 횟수 count => box_delta 1~4를 보았을 때, 4명이 앞으로 기울였다면, 1,1,1,1 \n",
    "            count_4p_f = ((read_file['box_delta_C1'] == 1) & (read_file['box_delta_C2'] == 1) & (read_file['box_delta_C3'] == 1) & (read_file['box_delta_C4'] == 1)).sum()\n",
    "            #print(count_4p_f)\n",
    "            \n",
    "            # lean 4p에서 뒤로 기울인 횟수 count => box_delta 1~4를 보았을 때, 4명이 뒤로 기울였다면, -1, -1, -1, -1\n",
    "            count_4p_b = ((read_file[\"box_delta_C1\"] == -1) & (read_file[\"box_delta_C2\"] == -1) & (read_file[\"box_delta_C3\"] == -1) & (read_file[\"box_delta_C4\"] == -1)).sum()\n",
    "            #print(count_4p_b)\n",
    "         \n",
    "            # lean 3p에서 앞으로 기울인    횟수 count =>  box_delta 1~4를 보았을 때, 3명이 앞으로 기울였다면, 1이 총 3개 여야 함.\n",
    "            count_3p_f = ((read_file == 1).sum(axis=1) >=3).sum()\n",
    "            #print(count_3p_f)\n",
    "            \n",
    "            # lean 3p에서 뒤로 기울인 횟수 count =>   box_delta 1~4를 보았을 때, 3명이 뒤로 기울였다면, -1이 총 3개 여야 함.\n",
    "            count_3p_b = ((read_file == -1).sum(axis=1) >=3).sum()\n",
    "            #print(count_3p_b)\n",
    "            \n",
    "            # 저장된 데이터들을 엑셀 파일로 내보내기.\n",
    "            data.append({\n",
    "                \"Week\": week,\n",
    "                \"Group\": group,\n",
    "                \"Step\": step,\n",
    "                \"Lean_4p_f\": count_4p_f,\n",
    "                \"Lean_4p_b\": count_4p_b,\n",
    "                \"Lean_3p_f\": count_3p_f,\n",
    "                \"Lean_3p_b\": count_3p_b\n",
    "            })\n",
    "result_df = pd.DataFrame(data)"
   ]
  },
  {
   "cell_type": "code",
   "execution_count": 5,
   "metadata": {},
   "outputs": [],
   "source": [
    "os.chdir(out)\n",
    "result_df.to_excel(\"lean_count_C.xlsx\", index_label=False)"
   ]
  },
  {
   "cell_type": "code",
   "execution_count": null,
   "metadata": {},
   "outputs": [],
   "source": [
    "import pandas as pd\n",
    "\n",
    "# 예시 DataFrame 생성\n",
    "data = {\n",
    "    'box_delta_1': [1, -1, 1, 1],\n",
    "    'box_delta_2': [-1, 1, 1, 1],\n",
    "    'box_delta_3': [1, 1, -1, -1],\n",
    "    'box_delta_4': [1, 0, 1, 0]\n",
    "}\n",
    "\n",
    "df = pd.DataFrame(data)\n",
    "\n",
    "# # 각 행에서 '1'의 개수가 3개 이상인 행을 카운트\n",
    "# count_three_or_more = ((df == 1).sum(axis=1) >= 3).sum()\n",
    "\n",
    "# print(\"각 행에서 '1'의 개수가 3개 이상인 행의 개수:\", count_three_or_more)\n"
   ]
  },
  {
   "cell_type": "code",
   "execution_count": null,
   "metadata": {},
   "outputs": [],
   "source": [
    "df"
   ]
  },
  {
   "cell_type": "markdown",
   "metadata": {},
   "source": [
    "## Lean Np 에 해당되는 프레임의 감정 값 뽑아내기."
   ]
  },
  {
   "cell_type": "code",
   "execution_count": 2,
   "metadata": {},
   "outputs": [
    {
     "name": "stderr",
     "output_type": "stream",
     "text": [
      "C:\\Users\\user\\AppData\\Local\\Temp\\ipykernel_12684\\1576438456.py:2: DeprecationWarning: \n",
      "Pyarrow will become a required dependency of pandas in the next major release of pandas (pandas 3.0),\n",
      "(to allow more performant data types, such as the Arrow string type, and better interoperability with other libraries)\n",
      "but was not found to be installed on your system.\n",
      "If this would cause problems for you,\n",
      "please provide us feedback at https://github.com/pandas-dev/pandas/issues/54466\n",
      "        \n",
      "  import pandas as pd\n"
     ]
    }
   ],
   "source": [
    "import os\n",
    "import pandas as pd\n",
    "import numpy as np"
   ]
  },
  {
   "cell_type": "markdown",
   "metadata": {},
   "source": [
    "## N 번째에 해당하는 열, 특정 column 값 아래의 값이 -1이거나 1로 기록되어 있다면, 그 값을 어떻게 불러올 수 있는가?"
   ]
  },
  {
   "cell_type": "code",
   "execution_count": 43,
   "metadata": {},
   "outputs": [],
   "source": [
    "# Lean 4p, 3p, 2p, 1p 값이 저장되어 있는 경로\n",
    "Lean_path = r\"D:\\\\MultiModal\\\\Face_z_score\\\\Face_lean_count\\\\backup\\\\All_face_box_zip\\\\Time_step\\\\A\"\n",
    "\n",
    "# A 그룹 뽑아놓은 것 \n",
    "# D:\\\\MultiModal\\\\Face_z_score\\\\Face_lean_count\\\\backup\\\\All_face_box_zip\\\\05_27_box_delta_zip\\\\Add_time_A\n",
    "\n",
    "# C 그룹 뽑아놓은 것 \n",
    "# D:\\\\MultiModal\\\\Face_z_score\\\\Face_lean_count\\\\backup\\\\All_face_box_zip\\\\05_27_box_delta_zip\\\\Add_time_C\n",
    "\n",
    "# 감정 값들이 들어있는 경로 \n",
    "emotion_path = r\"D:\\\\MultiModal\\\\MultiModal_Model\\\\results\\\\face\\\\face_emotion\\\\A\\\\\"\n",
    "\n",
    "out_path = r\"D:\\\\MultiModal\\\\Face_z_score\\\\Face_lean_count\\\\backup\\\\All_face_box_zip\\\\A_Group\\\\\"\n",
    "if not os.path.exists(out_path):\n",
    "    os.makedirs(out_path)\n",
    "\n",
    "# 현재 경로 설정\n",
    "os.chdir(r\"D:\\\\MultiModal\\\\Face_z_score\\\\Face_lean_count\\\\backup\\\\All_face_box_zip\\\\05_27_box_delta_zip\\\\Add_time_A\\\\\")\n",
    "# 읽어오고 싶은 파일 넣기.\n",
    "df1 = pd.read_excel('box_delta_time_4W_A_S3.xlsx', index_col=0)\n",
    "\n",
    "# 특정 조건(-1 또는 1) 하에 있는 인덱스를 찾습니다.\n",
    "filter_1 = df1[(df1['box_delta_A1'] == -1) | (df1['box_delta_A1'] == 1)].index\n",
    "filter_2 = df1[(df1['box_delta_A2'] == -1) | (df1['box_delta_A2'] == 1)].index\n",
    "filter_3 = df1[(df1['box_delta_A3'] == -1) | (df1['box_delta_A3'] == 1)].index\n",
    "filter_4 = df1[(df1['box_delta_A4'] == -1) | (df1['box_delta_A4'] == 1)].index\n",
    "\n",
    "\n",
    "# 누적할 데이터프레임 초기화\n",
    "all_result_1 = pd.DataFrame()\n",
    "all_result_2 = pd.DataFrame()\n",
    "all_result_3 = pd.DataFrame()\n",
    "all_result_4 = pd.DataFrame()\n",
    "\n",
    "for group in [\"A1\", \"A2\", \"A3\", \"A4\"]:\n",
    "    # , \"S2\", \"S3\"\n",
    "    # 전체 파일을 읽어옴. \n",
    "    os.chdir(r\"D:\\\\MultiModal\\\\MultiModal_Model\\\\results\\\\face\\\\face_emotion\\\\A_backup\\\\\")\n",
    "    emotion_data = pd.read_excel(f\"Face_4W_{group}_S3_emotion_predictions.xlsx\", index_col=0) # Face_1W_A1_S1_emotion_predictions\n",
    "    \n",
    "    # 특정 조건에 맞는 열 가져오기.\n",
    "    result_1 = emotion_data.loc[emotion_data.index.intersection(filter_1)]\n",
    "    result_2 = emotion_data.loc[emotion_data.index.intersection(filter_2)]\n",
    "    result_3 = emotion_data.loc[emotion_data.index.intersection(filter_3)]\n",
    "    result_4 = emotion_data.loc[emotion_data.index.intersection(filter_4)]\n",
    "\n",
    "    # 누적 데이터프레임에 추가\n",
    "    all_result_1 = pd.concat([all_result_1, result_1])\n",
    "    all_result_2 = pd.concat([all_result_2, result_2])\n",
    "    all_result_3 = pd.concat([all_result_3, result_3])\n",
    "    all_result_4 = pd.concat([all_result_4, result_4])\n",
    "\n",
    "    # 데이터가 잘 확인되는지 확인해볼 것. \n",
    "    #print(result_1)\n",
    "    #print(result_2)\n",
    "    #print(result_3)\n",
    "    #print(result_4) \n",
    "    \n",
    "    # output dir\n",
    "    \n",
    "os.chdir(out_path)\n",
    "all_result_1.to_excel(\"Face_4W_A1_S3_emotion_predictions.xlsx\")\n",
    "all_result_2.to_excel(\"Face_4W_A2_S3_emotion_predictions.xlsx\")\n",
    "all_result_3.to_excel(\"Face_4W_A3_S3_emotion_predictions.xlsx\")\n",
    "all_result_4.to_excel(\"Face_4W_A4_S3_emotion_predictions.xlsx\")\n"
   ]
  },
  {
   "cell_type": "markdown",
   "metadata": {},
   "source": [
    "## 참조 코드 부분"
   ]
  },
  {
   "cell_type": "code",
   "execution_count": null,
   "metadata": {},
   "outputs": [],
   "source": [
    "import pandas as pd\n",
    "\n",
    "# 첫 번째 엑셀 파일을 읽어옵니다.\n",
    "df1 = pd.read_excel('first_file.xlsx')\n",
    "\n",
    "# 특정 조건(-1 또는 1) 하에 있는 인덱스를 찾습니다.\n",
    "indices = df1[(df1['box_delta_2'] == -1) | (df1['box_delta_2'] == 1)].index\n",
    "\n",
    "# 두 번째 엑셀 파일을 읽어옵니다.\n",
    "df2 = pd.read_excel('second_file.xlsx')\n",
    "\n",
    "# 조건을 만족하는 인덱스의 값을 가져옵니다.\n",
    "result = df2.loc[indices]\n",
    "\n",
    "# 결과를 출력하거나 저장할 수 있습니다.\n",
    "print(result)"
   ]
  },
  {
   "cell_type": "code",
   "execution_count": 16,
   "metadata": {},
   "outputs": [
    {
     "name": "stdout",
     "output_type": "stream",
     "text": [
      "0.2536055942605333\n",
      "0.0019170934098666668\n",
      "0.24058146091266666\n",
      "0.051399998173866666\n",
      "0.23162111806293337\n",
      "0.09949579828600001\n",
      "0.12137893692226667\n"
     ]
    }
   ],
   "source": [
    "os.chdir(r\"D:\\\\MultiModal\\\\MultiModal_Model\\\\results\\\\face\\\\face_emotion\\\\A\")\n",
    "\n",
    "data = pd.read_csv(\"Face_1W_A2_S3_emotion_predictions.csv\")\n",
    "\n",
    "a = np.mean(data[\"angry\"]) \n",
    "b = np.mean(data[\"disgust\"])\n",
    "c = np.mean(data[\"fear\"])\n",
    "d = np.mean(data[\"happy\"]) \n",
    "e = np.mean(data[\"sad\"])\n",
    "f = np.mean(data[\"surprise\"])\n",
    "g = np.mean(data[\"neutral\"])\n",
    "\n",
    "print(a)\n",
    "print(b)\n",
    "print(c)\n",
    "print(d)\n",
    "print(e)\n",
    "print(f)\n",
    "print(g)\n"
   ]
  },
  {
   "cell_type": "markdown",
   "metadata": {},
   "source": [
    "## Lean이 발생했을 때의 감정 값들에 대한 평균 값을 계산해보자"
   ]
  },
  {
   "cell_type": "code",
   "execution_count": 46,
   "metadata": {},
   "outputs": [],
   "source": [
    "import os\n",
    "import pandas as pd\n",
    "import numpy as np\n",
    "\n",
    "# 감정 값들이 들어있는 경로 \n",
    "#emotion_path = r\"D:\\\\MultiModal\\\\MultiModal_Model\\\\results\\\\face\\\\face_emotion\\\\C\"\n",
    "emotion_path = r\"D:\\\\MultiModal\\\\Face_z_score\\\\Face_lean_count\\\\backup\\\\All_face_box_zip\\\\A_Group\\\\\"\n",
    "\n",
    "# A_emotion\n",
    "out_path = r\"D:\\\\MultiModal\\\\MultiModal_Model\\\\results\\\\face\\\\face_emotion\\\\A_emotion\\\\\"\n",
    "if not os.path.exists(out_path):\n",
    "    os.makedirs(out_path)\n",
    "\n",
    "average_emotions_list = []\n",
    "\n",
    "for week in [\"1W\", \"2W\", \"3W\", \"4W\"]:\n",
    "    for group in [\"A1\", \"A2\", \"A3\", \"A4\"]:\n",
    "        for step in [\"S1\", \"S2\", \"S3\"]:\n",
    "            # 전체 파일을 읽어옴. \n",
    "            os.chdir(r\"D:\\\\MultiModal\\\\Face_z_score\\\\Face_lean_count\\\\backup\\\\All_face_box_zip\\\\A_Group\\\\\")\n",
    "            emotion_data = pd.read_excel(f\"Face_{week}_{group}_{step}_emotion_predictions.xlsx\", index_col=0)\n",
    "\n",
    "            # 누적 데이터프레임에 추가\n",
    "            # all_result_1 = np.mean(data[\"angry\"]) \n",
    "            # all_result_2 = np.mean(data[\"disgust\"])\n",
    "            # all_result_3 = np.mean(data[\"fear\"])\n",
    "            # all_result_4 = np.mean(data[\"happy\"])\n",
    "            # all_result_5 = np.mean(data[\"sad\"])\n",
    "            # all_result_6 = np.mean(data[\"surprise\"])\n",
    "            # all_result_7 = np.mean(data[\"neutral\"])\n",
    "            \n",
    "            \n",
    "            # 각 열의 평균 값 계산\n",
    "            mean_values = {\n",
    "                \"Week\": week,\n",
    "                \"Group\": group,\n",
    "                \"Step\": step,\n",
    "                \"angry\": np.mean(emotion_data[\"angry\"]),\n",
    "                \"disgust\": np.mean(emotion_data[\"disgust\"]),\n",
    "                \"fear\": np.mean(emotion_data[\"fear\"]),\n",
    "                \"happy\": np.mean(emotion_data[\"happy\"]),\n",
    "                \"sad\": np.mean(emotion_data[\"sad\"]),\n",
    "                \"surprise\": np.mean(emotion_data[\"surprise\"]),\n",
    "                \"neutral\": np.mean(emotion_data[\"neutral\"])\n",
    "            }\n",
    "            \n",
    "            average_emotions_list.append(mean_values)\n",
    "    \n",
    "average_emotions = pd.DataFrame(average_emotions_list)\n",
    "os.chdir(out_path)\n",
    "average_emotions.to_excel(f\"Face_Average_emotion_A.xlsx\")"
   ]
  }
 ],
 "metadata": {
  "kernelspec": {
   "display_name": "Python 3",
   "language": "python",
   "name": "python3"
  },
  "language_info": {
   "codemirror_mode": {
    "name": "ipython",
    "version": 3
   },
   "file_extension": ".py",
   "mimetype": "text/x-python",
   "name": "python",
   "nbconvert_exporter": "python",
   "pygments_lexer": "ipython3",
   "version": "3.12.1"
  }
 },
 "nbformat": 4,
 "nbformat_minor": 2
}
