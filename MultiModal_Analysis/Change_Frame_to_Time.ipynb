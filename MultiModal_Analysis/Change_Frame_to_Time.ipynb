{
 "cells": [
  {
   "cell_type": "markdown",
   "metadata": {},
   "source": [
    "## index 라인에 시간 값 넣어주기"
   ]
  },
  {
   "cell_type": "code",
   "execution_count": null,
   "metadata": {},
   "outputs": [],
   "source": [
    "import os\n",
    "import pandas as pd\n",
    "import numpy as np"
   ]
  },
  {
   "cell_type": "markdown",
   "metadata": {},
   "source": [
    "## 초 단위를 시간으로 변경해주는 코드 작성"
   ]
  },
  {
   "cell_type": "code",
   "execution_count": null,
   "metadata": {},
   "outputs": [],
   "source": [
    "# 수정된 값을 기록하는 최종 파일 path\n",
    "#out_path = r\"D:\\\\MultiModal\\\\Face_z_score\\\\Face_lean_count\\\\backup\\\\All_face_box_zip\\\\Time_step\\\\\"\n",
    "\n",
    "#out_path =  r\"D:\\\\MultiModal\\\\Face_z_score\\\\Face_lean_count\\\\backup\\\\All_face_box_zip\\\\05_27_box_delta_zip\\\\Add_time_A\\\\\"\n",
    "\n",
    "out_path= r\"D:\\\\MultiModal\\\\Face_z_score\\\\Face_lean_count\\\\backup\\\\All_face_box_zip\\\\05_27_box_delta_zip\\\\result_G_lean\\\\result\\\\\"\n",
    "\n",
    "#### 경로 설명 : lean 4p~ lean 1p 까지 모두 다 넣어둔 파일 경로. (A 그룹)\n",
    "# input_path = r\"D:\\\\MultiModal\\\\Face_z_score\\\\Face_lean_count\\\\backup\\\\All_face_box_zip\\\\05_27_box_delta_zip\\\\Add_Lean_4p_A\\\\\"\n",
    "\n",
    "#### 경로 설명 : lean 4p~ lean 1p 까지 모두 다 넣어둔 파일 경로. (C 그룹)\n",
    "# input_path = r\"D:\\\\MultiModal\\\\Face_z_score\\\\Face_lean_count\\\\backup\\\\All_face_box_zip\\\\05_27_box_delta_zip\\\\Add_Lean_4p_C\\\\\"\n",
    "\n",
    "# 5분으로 나눈 값들을 기록해둔 곳.\n",
    "if not os.path.exists(out_path):\n",
    "    os.makedirs(out_path)\n",
    "\n",
    "# 5분 단위로 나누지 않은 파일 path \n",
    "#input_path_5m = r\"D:\\\\MultiModal\\\\Face_z_score\\\\Face_lean_count\\\\backup\\\\All_face_box_zip\\\\Modify_box_size_all\\\\Modify_time_5m\\\\\"\n",
    "\n",
    "# 다시 뽑아본 파일 경로 （A 그룹）\n",
    "# input_path_5m = r\"D:\\\\MultiModal\\\\Face_z_score\\\\Face_lean_count\\\\backup\\\\All_face_box_zip\\\\05_27_box_delta_zip\\\\Add_Lean_4p_A\\\\\"\n",
    "\n",
    "# 5분 단위로 나눈 값들을 기록한 파일 path \n",
    "#input_path_not_5m = r\"D:\\\\MultiModal\\\\Face_z_score\\\\Face_lean_count\\\\backup\\\\All_face_box_zip\\\\Modify_box_size_all\\\\\"\n",
    "\n",
    "for group in [\"G\"]: # C\n",
    "    for week in [\"1W\",\"2W\",\"3W\",\"4W\"]:\n",
    "        for step in [\"S1\",\"S2\",\"S3\"]:\n",
    "            # [\"S1_1\", \"S1_2\", \"S1_3\", \"S2_1\", \"S2_2\", \"S2_3\", \"S3\"]\n",
    "\n",
    "            # 5분 단위로 자르지 않은 값들을 모아 놓은 path \n",
    "            os.chdir(r\"D:\\\\MultiModal\\\\Face_z_score\\\\Face_lean_count\\\\backup\\\\All_face_box_zip\\\\05_27_box_delta_zip\\\\result_G_lean\\\\\")\n",
    "            read_file = pd.read_excel(f\"box_delta_{week}_{group}_{step}.xlsx\", index_col=0)\n",
    "            \n",
    "            # new_index 값을 초 단위로 변환하여 시간 형태로 표현\n",
    "            #seconds = read_file.index / 25\n",
    "            \n",
    "            total_seconds = np.arange(len(read_file)) * 0.2\n",
    "            minutes, seconds = divmod(total_seconds, 60) # divmod() 몫과 나머지를 함께 구하는 함수.\n",
    "            hours, minutes = divmod(minutes, 60)\n",
    "\n",
    "            # 시간 형태로 변환하여 'hh:mm:ss' 형태로 표현\n",
    "            time_format = [f'{int(hours):02}:{int(minutes):02}:{seconds:04.1f}' for hours, minutes, seconds in zip(hours, minutes, seconds)]\n",
    "\n",
    "            #print(time_format)\n",
    "            read_file.index = time_format\n",
    "\n",
    "            # 수정된 DataFrame을 새 경로에 저장\n",
    "            os.chdir(out_path)\n",
    "            read_file.to_excel(f\"box_delta_time_{week}_{group}_{step}.xlsx\")"
   ]
  },
  {
   "cell_type": "markdown",
   "metadata": {},
   "source": [
    "# Face Emotion 값의 index 부분을 시간 값으로 변경하기"
   ]
  },
  {
   "cell_type": "code",
   "execution_count": null,
   "metadata": {},
   "outputs": [],
   "source": [
    "import os \n",
    "import pandas as pd\n",
    "\n",
    "#수정된 값을 기록하는 최종 파일 path\n",
    "out_path = r\"D:\\\\MultiModal\\\\MultiModal_Model\\\\results\\\\face\\\\face_emotion\\\\A_backup\\\\\"\n",
    "\n",
    "# 읽어오고 싶은 경로\n",
    "# r\"D:\\\\MultiModal\\\\MultiModal_Model\\\\results\\\\face\\\\face_emotion\\\\A\"\n",
    "# r\"D:\\\\MultiModal\\\\MultiModal_Model\\\\results\\\\face\\\\face_emotion\\\\C\"\n",
    "\n",
    "#\"B\", \"C\", \"D\", \"E\", \"F\", \"G\"\n",
    "for week in [\"1W\",\"2W\",\"3W\",\"4W\"]:\n",
    "    for group in [\"A1\",\"A2\",\"A3\",\"A4\"]:\n",
    "        for step in [\"S1\",\"S2\",\"S3\"]:\n",
    "            # ,\"S2\",\"S3\"\n",
    "            # A 경로 Face_1W_A1_S1_emotion_predictions\n",
    "            os.chdir(r\"D:\\\\MultiModal\\\\MultiModal_Model\\\\results\\\\face\\\\face_emotion\\\\A\\\\\")\n",
    "            read_file = pd.read_csv(f\"Face_{week}_{group}_{step}_emotion_predictions.csv\", index_col=0)\n",
    "            \n",
    "            # new_index 값을 초 단위로 변환하여 시간 형태로 표현\n",
    "            #seconds = read_file.index / 25\n",
    "            total_seconds = np.arange(len(read_file)) * 0.04    \n",
    "            \n",
    "            minutes, seconds = divmod(total_seconds, 60) # divmod() 몫과 나머지를 함께 구하는 함수.\n",
    "            #print(minutes)\n",
    "            hours, minutes = divmod(minutes, 60)\n",
    "            #print(minutes)\n",
    "\n",
    "            # 시간 형태로 변환하여 'hh:mm:ss' 형태로 표현\n",
    "            time_format = [f'{int(hours):02}:{int(minutes):02}:{seconds:.2f}' for hours, minutes, seconds in zip(hours, minutes, seconds)]\n",
    "            \n",
    "            #print(time_format)\n",
    "        \n",
    "            read_file.index = time_format\n",
    "            #print(read_file.index)\n",
    "\n",
    "            # 수정된 DataFrame을 새 경로에 저장\n",
    "            os.chdir(out_path)\n",
    "            read_file.to_excel(f\"Face_{week}_{group}_{step}_emotion_predictions.xlsx\")"
   ]
  },
  {
   "cell_type": "markdown",
   "metadata": {},
   "source": [
    "## Lean이 발생하는 타이밍에서의 body pose landmark 추출해볼 것 "
   ]
  },
  {
   "cell_type": "code",
   "execution_count": null,
   "metadata": {},
   "outputs": [],
   "source": [
    "import os \n",
    "import pandas as pd\n",
    "import numpy as np"
   ]
  },
  {
   "cell_type": "code",
   "execution_count": null,
   "metadata": {},
   "outputs": [],
   "source": [
    "out_put = r\"D:\\\\MultiModal\\\\body_lean_time\\\\\"\n",
    "if not os.path.exists(out_path):\n",
    "    os.makedirs(out_put)\n",
    "input = r\"D:\\\\MultiModal\\\\MultiModal_Model\\\\results\\\\body\\\\C\\\\\"\n",
    "if not os.path.exists(input):\n",
    "    print(\"There is no file path, plz check your dir : \", input)\n",
    "\n",
    "for week in [\"1W\",\"2W\",\"3W\",\"4W\"]:\n",
    "    for group in [\"C\"]:\n",
    "        for step in [\"S1\",\"S2\",\"S3\"]:\n",
    "            os.chdir(input)\n",
    "            \n",
    "            # there is a different name in body pose detection. \n",
    "            # So we have to rename each file's name for easily.\n",
    "            read_data = pd.read_excel(f\"box_delta_time_{week}_{group}_{step}.xlsx\", index_col=0)\n",
    "            \n",
    "            for i in range(len(read_data)):\n",
    "                # lean_3p 부분을 읽는 부분.\n",
    "                lean_3p_values = read_data.iloc[:12, 8] \n",
    "                count_of_minus1 = sum(lean_3p_values == -1)\n",
    "                count_of_1 = sum(lean_3p_values == 1)"
   ]
  },
  {
   "cell_type": "code",
   "execution_count": null,
   "metadata": {},
   "outputs": [],
   "source": [
    "# D:\\MultiModal\\MultiModal_Model\\results\\face\\face_rotation\\A_backup"
   ]
  }
 ],
 "metadata": {
  "kernelspec": {
   "display_name": "Python 3",
   "language": "python",
   "name": "python3"
  },
  "language_info": {
   "codemirror_mode": {
    "name": "ipython",
    "version": 3
   },
   "file_extension": ".py",
   "mimetype": "text/x-python",
   "name": "python",
   "nbconvert_exporter": "python",
   "pygments_lexer": "ipython3",
   "version": "3.12.1"
  }
 },
 "nbformat": 4,
 "nbformat_minor": 2
}
