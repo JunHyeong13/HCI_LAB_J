{
 "cells": [
  {
   "cell_type": "markdown",
   "metadata": {},
   "source": [
    "## 마스터 파일을 만들어보자"
   ]
  },
  {
   "cell_type": "code",
   "execution_count": 2,
   "metadata": {},
   "outputs": [
    {
     "name": "stderr",
     "output_type": "stream",
     "text": [
      "C:\\Users\\user\\AppData\\Local\\Temp\\ipykernel_20612\\1576438456.py:2: DeprecationWarning: \n",
      "Pyarrow will become a required dependency of pandas in the next major release of pandas (pandas 3.0),\n",
      "(to allow more performant data types, such as the Arrow string type, and better interoperability with other libraries)\n",
      "but was not found to be installed on your system.\n",
      "If this would cause problems for you,\n",
      "please provide us feedback at https://github.com/pandas-dev/pandas/issues/54466\n",
      "        \n",
      "  import pandas as pd\n"
     ]
    }
   ],
   "source": [
    "import os\n",
    "import pandas as pd\n",
    "import numpy as np"
   ]
  },
  {
   "cell_type": "code",
   "execution_count": 19,
   "metadata": {},
   "outputs": [],
   "source": [
    "out_path = r\"D:\\\\MultiModal\\\\Face_z_score\\\\Face_lean_count\\\\backup\\\\All_face_box_zip\\\\Master_file\\\\\"\n",
    "\n",
    "input_path = r\"D:\\\\MultiModal\\\\Face_z_score\\\\Face_lean_count\\\\backup\\\\All_face_box_zip\\\\box_delta_not_5min\\\\\"\n",
    "input_path_5m = r\"D:\\\\MultiModal\\\\Face_z_score\\\\Face_lean_count\\\\backup\\\\All_face_box_zip\\\\box_delta_5m\\\\\"\n",
    "\n",
    "merge_df = pd.DataFrame()\n",
    "\n",
    "for group in [\"A\", \"B\", \"C\", \"D\", \"E\", \"F\", \"G\"]:\n",
    "    for week in [\"1W\", \"2W\", \"3W\", \"4W\"]:\n",
    "        for step in [\"S1\", \"S2\", \"S3\"]:\n",
    "            \n",
    "            # 5분이 아닌 데이터를 불러오는 곳 \n",
    "            dir = os.path.join(input_path, f\"box_delta_{week}_{group}_{step}.xlsx\")\n",
    "            read_file = pd.read_excel(dir, index_col=0)\n",
    "            \n",
    "            # 빈 데이터프레임 안에 하나씩 넣을 데이터 프레임 값들을 불러옴. \n",
    "            result_df = pd.concat([merge_df, read_file], axis = 1)\n",
    "            \n",
    "        #print(result_df)     \n",
    "result_df.to_csv(out_path + \"All_Face_lean.csv\", index=False)   "
   ]
  },
  {
   "cell_type": "code",
   "execution_count": 18,
   "metadata": {},
   "outputs": [],
   "source": [
    "result_df.to_csv(out_path + \"All_Face_lean.csv\", index=False)"
   ]
  }
 ],
 "metadata": {
  "kernelspec": {
   "display_name": "Python 3",
   "language": "python",
   "name": "python3"
  },
  "language_info": {
   "codemirror_mode": {
    "name": "ipython",
    "version": 3
   },
   "file_extension": ".py",
   "mimetype": "text/x-python",
   "name": "python",
   "nbconvert_exporter": "python",
   "pygments_lexer": "ipython3",
   "version": "3.12.1"
  }
 },
 "nbformat": 4,
 "nbformat_minor": 2
}
