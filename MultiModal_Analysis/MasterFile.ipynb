{
 "cells": [
  {
   "cell_type": "markdown",
   "metadata": {},
   "source": [
    "## index 라인에 시간 값 넣어주기"
   ]
  },
  {
   "cell_type": "code",
   "execution_count": 20,
   "metadata": {},
   "outputs": [],
   "source": [
    "import os\n",
    "import pandas as pd\n",
    "import numpy as np"
   ]
  },
  {
   "cell_type": "markdown",
   "metadata": {},
   "source": [
    "## 초 단위를 시간으로 변경해주는 코드 작성"
   ]
  },
  {
   "cell_type": "code",
   "execution_count": 26,
   "metadata": {},
   "outputs": [],
   "source": [
    "# 수정된 값을 기록하는 최종 파일 path\n",
    "out_path = r\"D:\\\\MultiModal\\\\Face_z_score\\\\Face_lean_count\\\\backup\\\\All_face_box_zip\\\\Modify_time\\\\Modify_time_5m\\\\\"\n",
    "if not os.path.exists(out_path):\n",
    "    os.makedirs(out_path)\n",
    "\n",
    "# 5분 단위로 나누지 않은 파일 path \n",
    "input_path_5m = r\"D:\\\\MultiModal\\\\Face_z_score\\\\Face_lean_count\\\\backup\\\\All_face_box_zip\\\\All_face_lean_not_5m\\\\\"\n",
    "\n",
    "# 5분 단위로 나눈 값들을 기록한 파일 path \n",
    "input_path_not_5m = r\"D:\\\\MultiModal\\\\Face_z_score\\\\Face_lean_count\\\\backup\\\\All_face_box_zip\\\\All_face_lean_5m\\\\\"\n",
    "\n",
    "for group in [\"A\", \"B\", \"C\", \"D\", \"E\", \"F\", \"G\"]:\n",
    "    for week in [\"1W\",\"2W\",\"3W\",\"4W\"]:\n",
    "        for step in [\"S1_1\", \"S1_2\", \"S1_3\", \"S2_1\", \"S2_2\", \"S2_3\", \"S3\"]:\n",
    "            # [\"S1_1\", \"S1_2\", \"S1_3\", \"S2_1\", \"S2_2\", \"S2_3\", \"S3\"]\n",
    "            # [\"S1\",\"S2\",\"S3\"]\n",
    "            \n",
    "            # 5분 단위로 자르지 않은 값들을 모아 놓은 path \n",
    "            os.chdir(r\"D:\\\\MultiModal\\\\Face_z_score\\\\Face_lean_count\\\\backup\\\\All_face_box_zip\\\\All_face_lean_5m\\\\\")\n",
    "            read_file = pd.read_excel(f\"box_delta_{week}_{group}_{step}.xlsx\", index_col=0)\n",
    "            \n",
    "            # new_index 값을 초 단위로 변환하여 시간 형태로 표현\n",
    "            seconds = read_file.index / 25\n",
    "           \n",
    "            minutes, seconds = divmod(seconds, 60) # divmod() 몫과 나머지를 함께 구하는 함수.\n",
    "            #print(minutes)\n",
    "            hours, minutes = divmod(minutes, 60)\n",
    "            #print(minutes)\n",
    "\n",
    "            # 시간 형태로 변환하여 'hh:mm:ss' 형태로 표현\n",
    "            time_format = [f'{int(hours):02}:{int(minutes):02}:{seconds:.2f}' for hours, minutes, seconds in zip(hours, minutes, seconds)]\n",
    "            \n",
    "            #print(time_format)\n",
    "        \n",
    "            read_file.index = time_format\n",
    "            #print(read_file.index)\n",
    "\n",
    "            # 수정된 DataFrame을 새 경로에 저장\n",
    "            os.chdir(out_path)\n",
    "            read_file.to_excel(f\"box_delta_time_{week}_{group}_{step}.xlsx\")"
   ]
  }
 ],
 "metadata": {
  "kernelspec": {
   "display_name": "Python 3",
   "language": "python",
   "name": "python3"
  },
  "language_info": {
   "codemirror_mode": {
    "name": "ipython",
    "version": 3
   },
   "file_extension": ".py",
   "mimetype": "text/x-python",
   "name": "python",
   "nbconvert_exporter": "python",
   "pygments_lexer": "ipython3",
   "version": "3.12.1"
  }
 },
 "nbformat": 4,
 "nbformat_minor": 2
}
