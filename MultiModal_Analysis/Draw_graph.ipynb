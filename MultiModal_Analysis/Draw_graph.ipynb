{
 "cells": [
  {
   "cell_type": "code",
   "execution_count": 2,
   "metadata": {},
   "outputs": [
    {
     "name": "stderr",
     "output_type": "stream",
     "text": [
      "C:\\Users\\user\\AppData\\Local\\Temp\\ipykernel_3512\\4095300560.py:2: DeprecationWarning: \n",
      "Pyarrow will become a required dependency of pandas in the next major release of pandas (pandas 3.0),\n",
      "(to allow more performant data types, such as the Arrow string type, and better interoperability with other libraries)\n",
      "but was not found to be installed on your system.\n",
      "If this would cause problems for you,\n",
      "please provide us feedback at https://github.com/pandas-dev/pandas/issues/54466\n",
      "        \n",
      "  import pandas as pd\n"
     ]
    }
   ],
   "source": [
    "import os\n",
    "import pandas as pd\n",
    "import matplotlib.pyplot as plt"
   ]
  },
  {
   "cell_type": "code",
   "execution_count": 17,
   "metadata": {},
   "outputs": [],
   "source": [
    "# Define the path\n",
    "path = 'D:\\\\MultiModal\\\\filtered_df\\\\G\\\\'\n",
    "save_path = 'D:\\\\MultiModal\\\\filtered_df\\\\G_plot\\\\'\n",
    "if not os.path.exists(save_path):\n",
    "    os.makedirs(save_path) \n",
    "\n",
    "# Define the lists\n",
    "weeks = ['1W','2W','3W','4W']  # '2W', '3W', '4W'\n",
    "steps = ['S1', 'S2', 'S3']  # 'S2', 'S3'\n",
    "people = ['G1', 'G2', 'G3', 'G4']\n",
    "\n",
    "for week in weeks:\n",
    "    for step in steps:\n",
    "        \n",
    "        temp = {}\n",
    "        \n",
    "        for person in people:\n",
    "            file_path = os.path.join(path, f\"Face_{week}_{person}_{step}.xlsx\")\n",
    "            if os.path.exists(file_path):\n",
    "                df = pd.read_excel(file_path, index_col=0)\n",
    "                \n",
    "                df['box.size'] = df['box.height'] * df['box.width']\n",
    "                df = df.iloc[::1000, :]\n",
    "                temp[person] = df\n",
    "\n",
    "        # Plot the data\n",
    "        plt.figure(figsize=(12, 8))\n",
    "\n",
    "        for person in people:\n",
    "            if person in temp:\n",
    "                df = temp[person]\n",
    "                plt.plot(df.index, df['box.size'], label=person)\n",
    "\n",
    "\n",
    "        plt.xlabel('Time')\n",
    "        plt.ylabel('Box Size')\n",
    "        plt.title(f'{week}_{step} graph')\n",
    "        plt.legend()\n",
    "\n",
    "        # Show the plot\n",
    "        #plt.show()\n",
    "        \n",
    "        # Save the plot to the specified path\n",
    "        plot_filename = f\"{week}_{step}_graph.png\"\n",
    "        plot_filepath = os.path.join(save_path, plot_filename)\n",
    "        plt.savefig(plot_filepath)\n",
    "        plt.close()  # Close the plot to avoid display"
   ]
  }
 ],
 "metadata": {
  "kernelspec": {
   "display_name": "Python 3",
   "language": "python",
   "name": "python3"
  },
  "language_info": {
   "codemirror_mode": {
    "name": "ipython",
    "version": 3
   },
   "file_extension": ".py",
   "mimetype": "text/x-python",
   "name": "python",
   "nbconvert_exporter": "python",
   "pygments_lexer": "ipython3",
   "version": "3.12.1"
  }
 },
 "nbformat": 4,
 "nbformat_minor": 2
}
