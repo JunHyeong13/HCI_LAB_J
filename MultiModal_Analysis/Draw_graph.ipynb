{
 "cells": [
  {
   "cell_type": "code",
   "execution_count": 2,
   "metadata": {},
   "outputs": [
    {
     "name": "stderr",
     "output_type": "stream",
     "text": [
      "C:\\Users\\user\\AppData\\Local\\Temp\\ipykernel_15812\\4095300560.py:2: DeprecationWarning: \n",
      "Pyarrow will become a required dependency of pandas in the next major release of pandas (pandas 3.0),\n",
      "(to allow more performant data types, such as the Arrow string type, and better interoperability with other libraries)\n",
      "but was not found to be installed on your system.\n",
      "If this would cause problems for you,\n",
      "please provide us feedback at https://github.com/pandas-dev/pandas/issues/54466\n",
      "        \n",
      "  import pandas as pd\n"
     ]
    }
   ],
   "source": [
    "import os\n",
    "import pandas as pd\n",
    "import matplotlib.pyplot as plt"
   ]
  },
  {
   "cell_type": "code",
   "execution_count": 1,
   "metadata": {},
   "outputs": [
    {
     "ename": "NameError",
     "evalue": "name 'os' is not defined",
     "output_type": "error",
     "traceback": [
      "\u001b[1;31m---------------------------------------------------------------------------\u001b[0m",
      "\u001b[1;31mNameError\u001b[0m                                 Traceback (most recent call last)",
      "Cell \u001b[1;32mIn[1], line 4\u001b[0m\n\u001b[0;32m      2\u001b[0m path \u001b[38;5;241m=\u001b[39m \u001b[38;5;124m'\u001b[39m\u001b[38;5;124mD:\u001b[39m\u001b[38;5;130;01m\\\\\u001b[39;00m\u001b[38;5;124mMultiModal\u001b[39m\u001b[38;5;130;01m\\\\\u001b[39;00m\u001b[38;5;124mFace_z_score\u001b[39m\u001b[38;5;130;01m\\\\\u001b[39;00m\u001b[38;5;124mC_1\u001b[39m\u001b[38;5;130;01m\\\\\u001b[39;00m\u001b[38;5;124m'\u001b[39m\n\u001b[0;32m      3\u001b[0m save_path \u001b[38;5;241m=\u001b[39m \u001b[38;5;124m'\u001b[39m\u001b[38;5;124mD:\u001b[39m\u001b[38;5;130;01m\\\\\u001b[39;00m\u001b[38;5;124mMultiModal\u001b[39m\u001b[38;5;130;01m\\\\\u001b[39;00m\u001b[38;5;124mFace_z_score\u001b[39m\u001b[38;5;130;01m\\\\\u001b[39;00m\u001b[38;5;124mCC_plot\u001b[39m\u001b[38;5;130;01m\\\\\u001b[39;00m\u001b[38;5;124m'\u001b[39m\n\u001b[1;32m----> 4\u001b[0m \u001b[38;5;28;01mif\u001b[39;00m \u001b[38;5;129;01mnot\u001b[39;00m \u001b[43mos\u001b[49m\u001b[38;5;241m.\u001b[39mpath\u001b[38;5;241m.\u001b[39mexists(save_path):\n\u001b[0;32m      5\u001b[0m     os\u001b[38;5;241m.\u001b[39mmakedirs(save_path) \n\u001b[0;32m      7\u001b[0m \u001b[38;5;66;03m# Define the lists\u001b[39;00m\n",
      "\u001b[1;31mNameError\u001b[0m: name 'os' is not defined"
     ]
    }
   ],
   "source": [
    "# Define the path\n",
    "path = 'D:\\\\MultiModal\\\\Face_z_score\\\\C_1\\\\'\n",
    "save_path = 'D:\\\\MultiModal\\\\Face_z_score\\\\CC_plot\\\\'\n",
    "if not os.path.exists(save_path):\n",
    "    os.makedirs(save_path) \n",
    "\n",
    "# Define the lists\n",
    "weeks = ['1W','2W','3W','4W']  # '2W', '3W', '4W'\n",
    "steps = ['S1']  # 'S2' 'S3'\n",
    "people = ['C1', 'C2', 'C3', 'C4']\n",
    "\n",
    "fps = 25  # Frames per second\n",
    "\n",
    "for week in weeks:\n",
    "    for step in steps:\n",
    "        \n",
    "        temp = {}\n",
    "        \n",
    "        for person in people:\n",
    "            file_path = os.path.join(path, f\"Face_{week}_{person}_{step}.xlsx\")\n",
    "            if os.path.exists(file_path):\n",
    "                df = pd.read_excel(file_path, index_col=0)\n",
    "                \n",
    "                df['box.size'] = df['box.height'] * df['box.width']\n",
    "                # data sampling, 500번째에 찍기 \n",
    "                #df = df.iloc[::500, :]\n",
    "                df.index = pd.to_timedelta(df.index / fps, unit='s')  # Convert index to timedelta format based on fps\n",
    "                df.index = df.index.astype(str).str.split(' ').str[-1]  # Convert timedelta to string and keep only the time part\n",
    "                temp[person] = df\n",
    "\n",
    "        # 플롯의 사이즈 조절\n",
    "        plt.figure(figsize=(20, 10))\n",
    "\n",
    "        for person in people:\n",
    "            if person in temp:\n",
    "                df = temp[person]\n",
    "                plt.plot(df.index, df['box.size'], label=person)\n",
    "\n",
    "        plt.xlabel('Time')\n",
    "        plt.xticks(rotation=45, ha='right')  # Rotate x-axis labels for better readability\n",
    "        \n",
    "        \n",
    "        # 시간을 매 10초씩 보여줄 수 있도록 세팅하는 부분.\n",
    "        ax = plt.gca() # 현재 축 정보를 가져옴; \n",
    "        tick_labels = ax.get_xticklabels() # 현재 x축의 모든 레이블을 가져옴.\n",
    "        tick_labels_to_keep = [tick_labels[i] for i in range(0, len(tick_labels), int(fps*20))] # 리스트를 하나 생성하고, 20초 간격으로 x축 정보를 설정함.\n",
    "        ax.set_xticks(ax.get_xticks()[::int(fps*20)]) # x축 틱 정보를 20초 간격으로 설정함. \n",
    "        ax.set_xticklabels(tick_labels_to_keep) # 앞에서 설정한 x tick 정보를 넣어줌.\n",
    "        \n",
    "        # y축의 경우, box size로 유지.\n",
    "        plt.ylabel('Box Size')\n",
    "        plt.title(f'{week}_{step} graph')\n",
    "        plt.legend()\n",
    "\n",
    "        # Adjust layout to give more space for the x-axis labels\n",
    "        plt.subplots_adjust(bottom=0.5)\n",
    "\n",
    "        # Show the plot\n",
    "        plt.show()\n",
    "        \n",
    "        # # Save the plot to the specified path\n",
    "        # plot_filename = f\"{week}_{step}_graph.png\"\n",
    "        # plot_filepath = os.path.join(save_path, plot_filename)\n",
    "        # plt.savefig(plot_filepath)\n",
    "        # plt.close()  # Close the plot to avoid display"
   ]
  }
 ],
 "metadata": {
  "kernelspec": {
   "display_name": "Python 3",
   "language": "python",
   "name": "python3"
  },
  "language_info": {
   "codemirror_mode": {
    "name": "ipython",
    "version": 3
   },
   "file_extension": ".py",
   "mimetype": "text/x-python",
   "name": "python",
   "nbconvert_exporter": "python",
   "pygments_lexer": "ipython3",
   "version": "3.12.1"
  }
 },
 "nbformat": 4,
 "nbformat_minor": 2
}
