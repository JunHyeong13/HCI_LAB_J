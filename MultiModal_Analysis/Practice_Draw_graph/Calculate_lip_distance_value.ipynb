{
 "cells": [
  {
   "cell_type": "code",
   "execution_count": null,
   "metadata": {},
   "outputs": [],
   "source": [
    "import os \n",
    "import pandas as pd\n",
    "import numpy as np"
   ]
  },
  {
   "cell_type": "code",
   "execution_count": null,
   "metadata": {},
   "outputs": [],
   "source": [
    "groups = ['A', 'B', 'C', 'D','E','F','G']\n",
    "Steps = ['S1', 'S2']\n",
    "Weeks = ['1W', '2W', '3W', '4W']\n",
    "person = ['1','2','3','4']\n",
    "\n",
    "group_path = r'D:/MultiModal/Data/Data_PreProcessing/Head_Rotation_Mouse/'\n",
    "save_path = r\"D:/MultiModal/Data/Data_PreProcessing/Lip_distance/\"\n",
    "if not os.path.exists(save_path):\n",
    "    os.makedirs(save_path)\n",
    "# D:\\MultiModal\\Data\\Data_PreProcessing\\Head_Rotation_Mouse\\All_group\n",
    "\n",
    "for group in groups:\n",
    "    for week in Weeks:\n",
    "        for persons in person:\n",
    "            for step in Steps:\n",
    "                file_name = f'Face_{week}_{group}{persons}_{step}.csv'\n",
    "                file_path = os.path.join(group_path, f'{group}_group_delta/', file_name)\n",
    "                print(file_path)\n",
    "                \n",
    "                # 파일 존재 여부 확인 후 읽기\n",
    "                if os.path.exists(file_path):\n",
    "                    group_data = pd.read_csv(file_path)\n",
    "                    \n",
    "                    # 'Lip Distance Delta' 계산\n",
    "                    group_data['Lip_Distance_Delta'] = group_data['Lip_Distance'].diff().fillna(0)\n",
    "                    \n",
    "                    # 수정된 데이터를 저장 경로에 저장\n",
    "                    save_file_path = os.path.join(save_path, file_name)\n",
    "                    group_data.to_csv(save_file_path, index=False)"
   ]
  },
  {
   "cell_type": "markdown",
   "metadata": {},
   "source": [
    "### 스텝은 모두 통일하고, 주차별 통합하여 넣어볼 수 있도록 함. "
   ]
  },
  {
   "cell_type": "code",
   "execution_count": 26,
   "metadata": {},
   "outputs": [
    {
     "name": "stdout",
     "output_type": "stream",
     "text": [
      "             1W            2W            3W            4W\n",
      "A -3.129447e-07  2.339652e-08 -5.322836e-09  4.224421e-07\n",
      "B  6.176783e-08 -1.813547e-07  2.271732e-07 -3.987834e-09\n",
      "C  2.178543e-07  2.284854e-07  1.513576e-07 -4.918254e-08\n",
      "D  1.209282e-07 -3.030066e-07  5.954101e-07 -2.120914e-07\n",
      "E  7.567767e-08  2.381054e-08 -3.676226e-08 -4.409724e-08\n",
      "F -6.329453e-08  3.320423e-07 -2.116313e-07  3.743964e-08\n",
      "G -1.487699e-07  4.985352e-08  3.806337e-08  4.485028e-08\n"
     ]
    }
   ],
   "source": [
    "import os\n",
    "import pandas as pd\n",
    "import numpy as np\n",
    "\n",
    "# 경로에 존재하는 파일 읽어오기. \n",
    "Weeks = ['1W', '2W', '3W', '4W']\n",
    "Steps = ['S1', 'S2']\n",
    "groups = ['A', 'B', 'C', 'D', 'E', 'F', 'G']\n",
    "\n",
    "path = 'D:/MultiModal/Data/Data_PreProcessing/Lip_Distance/'\n",
    "\n",
    "#그룹 별 평균 값을 저장하기 위한 딕셔너리 선언 \n",
    "group_means = {group: {week: [] for week in Weeks} for group in groups}\n",
    "\n",
    "for group in groups:\n",
    "    for week in Weeks:\n",
    "        for i in ['1', '2', '3', '4']:\n",
    "            for step in Steps:\n",
    "                # Set the directory path\n",
    "                directory_path = os.path.join(path)\n",
    "                #print(directory_path)\n",
    "                # Get the list of files in the directory\n",
    "                if os.path.exists(directory_path):\n",
    "                    file_list = os.listdir(directory_path)\n",
    "                    \n",
    "                    for file_name in file_list:\n",
    "                        # Check if the file name contains the specific week, group, and step\n",
    "                        if f'Face_{week}_{group}{i}_{step}' in file_name:\n",
    "                            # Set the file path\n",
    "                            file_path = os.path.join(directory_path, file_name)\n",
    "                            #print(file_path)\n",
    "                            read_test = pd.read_csv(file_path)\n",
    "                            \n",
    "                            # Calculate the mean of the 'Delta_X' column\n",
    "                            x_mean = np.mean(read_test['Lip_Distance_Delta']) # Lip_Distance_Delta\n",
    "                            #print(f\"Current {week}_{group}{i}_{step} mean : \", x_mean)\n",
    "                            \n",
    "                            # Append the mean to the corresponding group and week\n",
    "                            group_means[group][week].append(x_mean)\n",
    "                            #print(group_means)\n",
    "\n",
    "#NaN 값이 있을 시, 평균 값이 계산되지 않으므로, nan 부분이 있다면 넘어갈 수 있도록 세팅.\n",
    "weekly_means = {group: {week: np.nanmean(values) if len(values) > 0 else np.nan for week, values in group_means[group].items()} for group in groups}\n",
    "\n",
    "weekly_means_df = pd.DataFrame(weekly_means).T\n",
    "output_path = 'D:/MultiModal/Data/Data_PreProcessing/Head_Rotation_Mouse/group_weekly_lip_distance_delta_means.xlsx'\n",
    "weekly_means_df.to_excel(output_path)\n",
    "print(weekly_means_df)"
   ]
  }
 ],
 "metadata": {
  "kernelspec": {
   "display_name": "Python 3",
   "language": "python",
   "name": "python3"
  },
  "language_info": {
   "codemirror_mode": {
    "name": "ipython",
    "version": 3
   },
   "file_extension": ".py",
   "mimetype": "text/x-python",
   "name": "python",
   "nbconvert_exporter": "python",
   "pygments_lexer": "ipython3",
   "version": "3.12.1"
  }
 },
 "nbformat": 4,
 "nbformat_minor": 2
}
